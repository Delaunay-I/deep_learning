{
  "nbformat": 4,
  "nbformat_minor": 0,
  "metadata": {
    "colab": {
      "provenance": [],
      "authorship_tag": "ABX9TyM8nApwingRNs7IGAzIqBZ8",
      "include_colab_link": true
    },
    "kernelspec": {
      "name": "python3",
      "display_name": "Python 3"
    },
    "language_info": {
      "name": "python"
    },
    "accelerator": "GPU",
    "gpuClass": "standard"
  },
  "cells": [
    {
      "cell_type": "markdown",
      "metadata": {
        "id": "view-in-github",
        "colab_type": "text"
      },
      "source": [
        "<a href=\"https://colab.research.google.com/github/Delaunay-I/deep_learning/blob/main/LeNet.ipynb\" target=\"_parent\"><img src=\"https://colab.research.google.com/assets/colab-badge.svg\" alt=\"Open In Colab\"/></a>"
      ]
    },
    {
      "cell_type": "code",
      "execution_count": null,
      "metadata": {
        "id": "i2xPQi0amAyo"
      },
      "outputs": [],
      "source": [
        "# import the necessary packages\n",
        "from keras.models import Sequential\n",
        "from keras.layers.convolutional import Conv2D\n",
        "from keras.layers.convolutional import MaxPooling2D\n",
        "from keras.layers.core import Activation\n",
        "from keras.layers.core import Flatten\n",
        "from keras.layers.core import Dense\n",
        "from keras import backend as K"
      ]
    },
    {
      "cell_type": "markdown",
      "source": [
        "It’s common to see the number of CONV filters learned increase in deeper layers of the network."
      ],
      "metadata": {
        "id": "hxM0baei1vjF"
      }
    },
    {
      "cell_type": "code",
      "source": [
        "class LeNet:\n",
        "\tdef build(numChannels, imgRows, imgCols, numClasses,\n",
        "\t\tactivation=\"relu\", weightsPath=None):\n",
        "\t\t# initialize the model\n",
        "\t\tmodel = Sequential()\n",
        "\t\tinputShape = (imgRows, imgCols, numChannels)\n",
        "\t\t# if we are using \"channels first\", update the input shape\n",
        "\t\tif K.image_data_format() == \"channels_first\":\n",
        "\t\t\tinputShape = (numChannels, imgRows, imgCols)\n",
        "   \n",
        "   \t# define the first set of CONV => ACTIVATION => POOL layers\n",
        "\t\tmodel.add(Conv2D(20, 5, padding=\"same\",\n",
        "\t\t\tinput_shape=inputShape, activation=activation))\n",
        "\t\tmodel.add(MaxPooling2D(pool_size=(2, 2), strides=(2, 2)))\n",
        "  \n",
        "  \t# define the second set of CONV => ACTIVATION => POOL layers\n",
        "\t\tmodel.add(Conv2D(50, 5, padding=\"same\", activation=activation))\n",
        "\t\tmodel.add(MaxPooling2D(pool_size=(2, 2), strides=(2, 2)))\n",
        "  \n",
        "  \t# define the first FC => ACTIVATION layers\n",
        "\t\tmodel.add(Flatten())\n",
        "\t\tmodel.add(Dense(500, activation= activation))\n",
        "\t\t# define the second FC layer\n",
        "\t\tmodel.add(Dense(numClasses))\n",
        "\t\t# lastly, define the soft-max classifier\n",
        "\t\tmodel.add(Activation(\"softmax\"))\n",
        "  \n",
        "  \t# if a weights path is supplied (inicating that the model was\n",
        "\t\t# pre-trained), then load the weights\n",
        "\t\tif weightsPath is not None:\n",
        "\t\t\tmodel.load_weights(weightsPath)\n",
        "\t\t# return the constructed network architecture\n",
        "\t\treturn model"
      ],
      "metadata": {
        "id": "XAnkzg7E0BW9"
      },
      "execution_count": null,
      "outputs": []
    },
    {
      "cell_type": "code",
      "source": [
        "from sklearn.model_selection import train_test_split\n",
        "from keras.datasets import mnist\n",
        "from keras.optimizers import SGD\n",
        "from keras.utils import np_utils\n",
        "import numpy as np\n",
        "import cv2"
      ],
      "metadata": {
        "id": "cjv7YPTx2kgl"
      },
      "execution_count": null,
      "outputs": []
    },
    {
      "cell_type": "code",
      "source": [
        "print(\"[INFO] downloading MNIST...\")\n",
        "((X_train, y_train),(X_test, y_test)) = mnist.load_data()\n",
        "\n",
        "# reshape the dataset into a matrix with format of:\n",
        "# num_samples x depth x rows x columns\n",
        "X_train = X_train.reshape((X_train.shape[0], 28, 28, 1))\n",
        "X_test = X_test.reshape((X_test.shape[0], 28, 28, 1))\n",
        "\n",
        "# Scale the data to range [0, 1]\n",
        "X_train = X_train.astype(\"float32\") / 255.0\n",
        "X_test = X_test.astype(\"float32\") / 255.0\n",
        "\n",
        "y_train = np_utils.to_categorical(y_train, 10)\n",
        "y_test = np_utils.to_categorical(y_test, 10)"
      ],
      "metadata": {
        "colab": {
          "base_uri": "https://localhost:8080/"
        },
        "id": "7g7Iekbw30bg",
        "outputId": "621a8bd2-f6ee-4d06-dab4-f210be32fd51"
      },
      "execution_count": null,
      "outputs": [
        {
          "output_type": "stream",
          "name": "stdout",
          "text": [
            "[INFO] downloading MNIST...\n",
            "Downloading data from https://storage.googleapis.com/tensorflow/tf-keras-datasets/mnist.npz\n",
            "11490434/11490434 [==============================] - 1s 0us/step\n"
          ]
        }
      ]
    },
    {
      "cell_type": "code",
      "source": [
        "# Initialize optimizer and model\n",
        "print(\"[INFO] compiling model...\")\n",
        "opt = SGD(learning_rate=0.01)\n",
        "model = LeNet.build(numChannels=1, imgRows = 28, imgCols = 28, numClasses = 10)\n",
        "model.compile(optimizer=opt, loss='categorical_crossentropy', metrics=[\"accuracy\"])"
      ],
      "metadata": {
        "colab": {
          "base_uri": "https://localhost:8080/"
        },
        "id": "kNwxQN9V76K7",
        "outputId": "8e310050-5d2c-4de7-f1ab-adf280cc6386"
      },
      "execution_count": null,
      "outputs": [
        {
          "output_type": "stream",
          "name": "stdout",
          "text": [
            "[INFO] compiling model...\n"
          ]
        }
      ]
    },
    {
      "cell_type": "code",
      "source": [
        "print(\"[INFO] training...\")\n",
        "model.fit(x=X_train, y=y_train, batch_size=128, epochs=20, verbose=1, validation_data=(X_test, y_test))"
      ],
      "metadata": {
        "colab": {
          "base_uri": "https://localhost:8080/"
        },
        "id": "-Ph0SPED9CKA",
        "outputId": "4506e94e-1ab0-41ef-f99e-dc995a97eca8"
      },
      "execution_count": null,
      "outputs": [
        {
          "output_type": "stream",
          "name": "stdout",
          "text": [
            "[INFO] training...\n",
            "Epoch 1/20\n",
            "469/469 [==============================] - 12s 7ms/step - loss: 0.9499 - accuracy: 0.7480 - val_loss: 0.3393 - val_accuracy: 0.8993\n",
            "Epoch 2/20\n",
            "469/469 [==============================] - 4s 9ms/step - loss: 0.2555 - accuracy: 0.9238 - val_loss: 0.1981 - val_accuracy: 0.9390\n",
            "Epoch 3/20\n",
            "469/469 [==============================] - 5s 11ms/step - loss: 0.1808 - accuracy: 0.9460 - val_loss: 0.1451 - val_accuracy: 0.9574\n",
            "Epoch 4/20\n",
            "469/469 [==============================] - 4s 9ms/step - loss: 0.1424 - accuracy: 0.9581 - val_loss: 0.1198 - val_accuracy: 0.9626\n",
            "Epoch 5/20\n",
            "469/469 [==============================] - 3s 7ms/step - loss: 0.1190 - accuracy: 0.9650 - val_loss: 0.0988 - val_accuracy: 0.9704\n",
            "Epoch 6/20\n",
            "469/469 [==============================] - 4s 8ms/step - loss: 0.1011 - accuracy: 0.9698 - val_loss: 0.0927 - val_accuracy: 0.9699\n",
            "Epoch 7/20\n",
            "469/469 [==============================] - 3s 6ms/step - loss: 0.0892 - accuracy: 0.9736 - val_loss: 0.0740 - val_accuracy: 0.9770\n",
            "Epoch 8/20\n",
            "469/469 [==============================] - 3s 6ms/step - loss: 0.0803 - accuracy: 0.9755 - val_loss: 0.0683 - val_accuracy: 0.9790\n",
            "Epoch 9/20\n",
            "469/469 [==============================] - 3s 6ms/step - loss: 0.0734 - accuracy: 0.9776 - val_loss: 0.0667 - val_accuracy: 0.9793\n",
            "Epoch 10/20\n",
            "469/469 [==============================] - 3s 6ms/step - loss: 0.0678 - accuracy: 0.9794 - val_loss: 0.0592 - val_accuracy: 0.9811\n",
            "Epoch 11/20\n",
            "469/469 [==============================] - 3s 7ms/step - loss: 0.0636 - accuracy: 0.9813 - val_loss: 0.0608 - val_accuracy: 0.9803\n",
            "Epoch 12/20\n",
            "469/469 [==============================] - 3s 6ms/step - loss: 0.0590 - accuracy: 0.9826 - val_loss: 0.0542 - val_accuracy: 0.9824\n",
            "Epoch 13/20\n",
            "469/469 [==============================] - 3s 6ms/step - loss: 0.0561 - accuracy: 0.9827 - val_loss: 0.0518 - val_accuracy: 0.9826\n",
            "Epoch 14/20\n",
            "469/469 [==============================] - 3s 6ms/step - loss: 0.0532 - accuracy: 0.9840 - val_loss: 0.0520 - val_accuracy: 0.9834\n",
            "Epoch 15/20\n",
            "469/469 [==============================] - 3s 7ms/step - loss: 0.0498 - accuracy: 0.9846 - val_loss: 0.0468 - val_accuracy: 0.9851\n",
            "Epoch 16/20\n",
            "469/469 [==============================] - 3s 6ms/step - loss: 0.0474 - accuracy: 0.9863 - val_loss: 0.0467 - val_accuracy: 0.9842\n",
            "Epoch 17/20\n",
            "469/469 [==============================] - 3s 6ms/step - loss: 0.0455 - accuracy: 0.9862 - val_loss: 0.0443 - val_accuracy: 0.9856\n",
            "Epoch 18/20\n",
            "469/469 [==============================] - 3s 6ms/step - loss: 0.0438 - accuracy: 0.9867 - val_loss: 0.0498 - val_accuracy: 0.9841\n",
            "Epoch 19/20\n",
            "469/469 [==============================] - 4s 8ms/step - loss: 0.0412 - accuracy: 0.9872 - val_loss: 0.0417 - val_accuracy: 0.9864\n",
            "Epoch 20/20\n",
            "469/469 [==============================] - 3s 6ms/step - loss: 0.0399 - accuracy: 0.9881 - val_loss: 0.0429 - val_accuracy: 0.9856\n"
          ]
        },
        {
          "output_type": "execute_result",
          "data": {
            "text/plain": [
              "<keras.callbacks.History at 0x7f87a0b7dca0>"
            ]
          },
          "metadata": {},
          "execution_count": 6
        }
      ]
    },
    {
      "cell_type": "code",
      "source": [
        "print(\"[INFO] evaluating...\")\n",
        "(loss, accuracy) = model.evaluate(x=X_test, y=y_test, batch_size=128, verbose=1)\n",
        "print(f\"[INFO] accuracy: {accuracy * 100}\")"
      ],
      "metadata": {
        "id": "PsoX-XFg_Wnt",
        "colab": {
          "base_uri": "https://localhost:8080/"
        },
        "outputId": "19f68e15-03bb-4f7f-8601-aec54822274f"
      },
      "execution_count": null,
      "outputs": [
        {
          "output_type": "stream",
          "name": "stdout",
          "text": [
            "[INFO] evaluating...\n",
            "79/79 [==============================] - 0s 4ms/step - loss: 0.0429 - accuracy: 0.9856\n",
            "[INFO] accuracy: 98.55999946594238\n"
          ]
        }
      ]
    },
    {
      "cell_type": "code",
      "source": [
        "model.save_weights(\"./LeNet.hdf5\", overwrite=True)"
      ],
      "metadata": {
        "id": "7PjVsFha5MXL"
      },
      "execution_count": null,
      "outputs": []
    },
    {
      "cell_type": "code",
      "source": [],
      "metadata": {
        "id": "RAt7WbhO6D-O"
      },
      "execution_count": null,
      "outputs": []
    }
  ]
}